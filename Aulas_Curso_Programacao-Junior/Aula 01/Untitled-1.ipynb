{
 "cells": [
  {
   "cell_type": "markdown",
   "id": "129c5eae",
   "metadata": {},
   "source": [
    "#AULA 1\n",
    "Aula dia 14 de maio de 2025\n",
    "Tipos de Variáveis Atribuições Operadores lógicos (+,-,,/,//,%, *) Funções"
   ]
  },
  {
   "cell_type": "markdown",
   "id": "630e3641",
   "metadata": {},
   "source": [
    "##TIPO DE VARIÁVEIS\n",
    "INTEIRA - (1, 2, 3, 10, 1000) - IDADE, QUANTIDADES\n",
    "\n",
    "FLOAT - CONTÍNUO (1.3, 2.5. 10000.4) - ALTURA, PESO\n",
    "\n",
    "BINÁRIAS - BOOLEANAS - 0 OU 1 (SIM OU NÃO)\n",
    "\n",
    "CATEGÓRICAS - STRING E CHAR - ESCOLARIDADE: ENSINO FUNDAMENTAL, ENSINO MÉDIO, SUPERIOR (ESCOLARIDADE É ORDINAL - PODEMOS TRANSFORMAR EM NÚMERO) COR DA PELE: BRANCO, AMARELO, PARDO, PRETO (NÃO É UMA CATEGORIA ORDINAL)"
   ]
  },
  {
   "cell_type": "code",
   "execution_count": null,
   "id": "a8764055",
   "metadata": {},
   "outputs": [
    {
     "data": {
      "text/plain": [
       "8"
      ]
     },
     "execution_count": 3,
     "metadata": {},
     "output_type": "execute_result"
    }
   ],
   "source": [
    "3*6"
   ]
  },
  {
   "cell_type": "code",
   "execution_count": 4,
   "id": "e918d19b",
   "metadata": {},
   "outputs": [
    {
     "data": {
      "text/plain": [
       "2.5"
      ]
     },
     "execution_count": 4,
     "metadata": {},
     "output_type": "execute_result"
    }
   ],
   "source": [
    "5/2"
   ]
  },
  {
   "cell_type": "code",
   "execution_count": 5,
   "id": "42b3672f",
   "metadata": {},
   "outputs": [
    {
     "data": {
      "text/plain": [
       "2"
      ]
     },
     "execution_count": 5,
     "metadata": {},
     "output_type": "execute_result"
    }
   ],
   "source": [
    "5//2"
   ]
  },
  {
   "cell_type": "code",
   "execution_count": 6,
   "id": "b4006176",
   "metadata": {},
   "outputs": [
    {
     "data": {
      "text/plain": [
       "1"
      ]
     },
     "execution_count": 6,
     "metadata": {},
     "output_type": "execute_result"
    }
   ],
   "source": [
    "5%2"
   ]
  },
  {
   "cell_type": "code",
   "execution_count": 7,
   "id": "0228460f",
   "metadata": {},
   "outputs": [
    {
     "data": {
      "text/plain": [
       "8"
      ]
     },
     "execution_count": 7,
     "metadata": {},
     "output_type": "execute_result"
    }
   ],
   "source": [
    "2**3"
   ]
  },
  {
   "cell_type": "markdown",
   "id": "200fbca2",
   "metadata": {},
   "source": [
    "##ATRIBUIÇÃO DE VARIÁVEIS ----------------------------------"
   ]
  },
  {
   "cell_type": "code",
   "execution_count": null,
   "id": "89dd043d",
   "metadata": {},
   "outputs": [],
   "source": [
    "x = 3 # trÊs está salvo na variável x\n",
    "y = 2 # Dois está salvo na variável y\n",
    "y**x"
   ]
  },
  {
   "cell_type": "code",
   "execution_count": null,
   "id": "162404c2",
   "metadata": {},
   "outputs": [],
   "source": [
    "aluno = 'LENILDO' #STRING --> NOME, FRASE\n",
    "aluno"
   ]
  },
  {
   "cell_type": "markdown",
   "id": "c0f739c3",
   "metadata": {},
   "source": [
    "##Criando vetores -------------------\n",
    "estrutura de armazenamento de dados"
   ]
  },
  {
   "cell_type": "code",
   "execution_count": null,
   "id": "ed849fe1",
   "metadata": {},
   "outputs": [],
   "source": [
    "alunos = ['LENILDO', 'SELMA',  'LUCIANA', 'SOFIA']\n",
    "alunos"
   ]
  },
  {
   "cell_type": "code",
   "execution_count": null,
   "id": "dcf044c1",
   "metadata": {},
   "outputs": [],
   "source": [
    "alunos[0]"
   ]
  },
  {
   "cell_type": "code",
   "execution_count": null,
   "id": "4950aaf2",
   "metadata": {},
   "outputs": [],
   "source": [
    "len(alunos) #length --> len(VARIAVEL) me retorna o tamanho do vetor"
   ]
  },
  {
   "cell_type": "markdown",
   "id": "cb792855",
   "metadata": {},
   "source": [
    "#Aula 1 Continuaçao"
   ]
  },
  {
   "cell_type": "code",
   "execution_count": null,
   "id": "5f133522",
   "metadata": {},
   "outputs": [],
   "source": [
    "idades = [18,22,18,16]\n",
    "idades"
   ]
  },
  {
   "cell_type": "code",
   "execution_count": null,
   "id": "c8707c12",
   "metadata": {},
   "outputs": [],
   "source": [
    "descricao = [\"Lenildo e um bom estudante\",\"Selma estuda no ciclo VI\"]\n",
    "descricao[0] #Nao se usa caracteres especiais para criaçao de variaveis "
   ]
  },
  {
   "cell_type": "markdown",
   "id": "b87984f3",
   "metadata": {},
   "source": [
    "Ao usar numeros floats, e importante saber usar que os computadores armazenam os numeros em binario e acabam arredondando numeros grandes.\n",
    "\n",
    "Ou seja, para calculos que necessitam de 100% de precisao e importante se atentar a este detalhe de calculos.a"
   ]
  },
  {
   "cell_type": "markdown",
   "id": "d0c445f0",
   "metadata": {},
   "source": [
    "#Aula 01- dia 28/05/25\n",
    "Continuaçao usando vscode dessa vez"
   ]
  },
  {
   "cell_type": "code",
   "execution_count": null,
   "id": "f0726fd8",
   "metadata": {},
   "outputs": [
    {
     "data": {
      "text/plain": [
       "'Ola'"
      ]
     },
     "execution_count": 8,
     "metadata": {},
     "output_type": "execute_result"
    }
   ],
   "source": [
    "#Relembrando aula passada\n",
    "lista = [\"Ola\",\"Pizza\",\"Eu quero pizza\"] #Vetor\n",
    "lista[0]"
   ]
  },
  {
   "cell_type": "markdown",
   "id": "4bc68b2d",
   "metadata": {},
   "source": [
    "##Estruturas de Decisao\n",
    "\n",
    "If e Else"
   ]
  },
  {
   "cell_type": "code",
   "execution_count": 3,
   "id": "04db811d",
   "metadata": {},
   "outputs": [
    {
     "name": "stdout",
     "output_type": "stream",
     "text": [
      "Delicia\n"
     ]
    }
   ],
   "source": [
    "palavra = \"bolo\"\n",
    "palavra2 = \"\"\n",
    "if palavra == \"bolo\":\n",
    "    print(\"Delicia\")\n",
    "else:\n",
    "    print(\"eca\")"
   ]
  },
  {
   "cell_type": "code",
   "execution_count": null,
   "id": "b0fd46a0",
   "metadata": {},
   "outputs": [
    {
     "name": "stdout",
     "output_type": "stream",
     "text": [
      "{}Reprovado\n"
     ]
    }
   ],
   "source": [
    "notas = 5\n",
    "if notas >= 6:\n",
    "    print(\"Aluno Aprovado\")\n",
    "else:\n",
    "    print(\"Reprovado\")"
   ]
  },
  {
   "cell_type": "markdown",
   "id": "50f1f2da",
   "metadata": {},
   "source": [
    "##Relembrando aula passada:"
   ]
  },
  {
   "cell_type": "code",
   "execution_count": null,
   "id": "41b86020",
   "metadata": {},
   "outputs": [],
   "source": [
    "lista = [\"Olá\",'Eu','Quero','Pizza']\n",
    "frase = [\"Olá eu quero pizza\"]"
   ]
  },
  {
   "cell_type": "code",
   "execution_count": null,
   "id": "25cbc3df",
   "metadata": {},
   "outputs": [
    {
     "data": {
      "text/plain": [
       "4"
      ]
     },
     "execution_count": 4,
     "metadata": {},
     "output_type": "execute_result"
    }
   ],
   "source": [
    "len(lista) #len = tamanho\n"
   ]
  },
  {
   "cell_type": "code",
   "execution_count": 5,
   "id": "d32317c6",
   "metadata": {},
   "outputs": [
    {
     "data": {
      "text/plain": [
       "1"
      ]
     },
     "execution_count": 5,
     "metadata": {},
     "output_type": "execute_result"
    }
   ],
   "source": [
    "len(frase)"
   ]
  },
  {
   "cell_type": "code",
   "execution_count": 14,
   "id": "c451b08f",
   "metadata": {},
   "outputs": [
    {
     "name": "stdout",
     "output_type": "stream",
     "text": [
      "A palavra não está na lista\n"
     ]
    }
   ],
   "source": [
    "if \"pizza\" in lista:\n",
    "    print(\"Tem Pizza\")\n",
    "else:\n",
    "    print(\"A palavra não está na lista\")"
   ]
  },
  {
   "cell_type": "code",
   "execution_count": null,
   "id": "f622e069",
   "metadata": {},
   "outputs": [],
   "source": [
    "if \"Pizza\" in lista:  \n",
    "    print(\"Tem Pizza\")\n",
    "else:\n",
    "    print(\"A palavra não está na lista\")"
   ]
  },
  {
   "cell_type": "markdown",
   "id": "bd13e274",
   "metadata": {},
   "source": [
    "##Fatiando strings"
   ]
  },
  {
   "cell_type": "code",
   "execution_count": null,
   "id": "48b0291d",
   "metadata": {},
   "outputs": [
    {
     "data": {
      "text/plain": [
       "['Olá-eu-quero-pizza']"
      ]
     },
     "execution_count": 16,
     "metadata": {},
     "output_type": "execute_result"
    }
   ],
   "source": [
    "frase = \"Olá-eu-quero-pizza\" #podemos separar \"fatiar\" string usando o SPLIT\n",
    "frase.split()"
   ]
  },
  {
   "cell_type": "code",
   "execution_count": 17,
   "id": "b1128d24",
   "metadata": {},
   "outputs": [
    {
     "data": {
      "text/plain": [
       "['Olá', 'eu', 'quero', 'pizza']"
      ]
     },
     "execution_count": 17,
     "metadata": {},
     "output_type": "execute_result"
    }
   ],
   "source": [
    "frase = \"Olá eu quero pizza\"\n",
    "frase.split()"
   ]
  },
  {
   "cell_type": "code",
   "execution_count": 22,
   "id": "2d83718d",
   "metadata": {},
   "outputs": [
    {
     "data": {
      "text/plain": [
       "'Olá eu quero pizza'"
      ]
     },
     "execution_count": 22,
     "metadata": {},
     "output_type": "execute_result"
    }
   ],
   "source": [
    "\"\".join(frase) #Juntando strings separadas"
   ]
  },
  {
   "cell_type": "code",
   "execution_count": 18,
   "id": "57076f3a",
   "metadata": {},
   "outputs": [
    {
     "name": "stdout",
     "output_type": "stream",
     "text": [
      "1\n"
     ]
    }
   ],
   "source": [
    "comentario = \"eu achei esse produto horrivel, quero devolução\"\n",
    "\n",
    "contagem = 0\n",
    "if \"horrivel\" in comentario:\n",
    "    contagem += 1\n",
    "print(contagem)"
   ]
  },
  {
   "cell_type": "markdown",
   "id": "68ff0efa",
   "metadata": {},
   "source": []
  },
  {
   "cell_type": "markdown",
   "id": "6229b302",
   "metadata": {},
   "source": [
    "### IF ELSE ELIF \n",
    "qUANDO TRABALHAMOS COM MAIS DE DUAS CONDICOES"
   ]
  },
  {
   "cell_type": "code",
   "execution_count": null,
   "id": "e2bd11aa",
   "metadata": {},
   "outputs": [],
   "source": [
    "\n",
    "#Variavel chamada nota"
   ]
  },
  {
   "cell_type": "code",
   "execution_count": 1,
   "id": "7b6c1b25",
   "metadata": {},
   "outputs": [
    {
     "name": "stdout",
     "output_type": "stream",
     "text": [
      "aprovado\n"
     ]
    }
   ],
   "source": [
    "nota = 7\n",
    "if nota > 10:\n",
    "    print (\"nota errada!\")\n",
    "elif nota >= 6: #verifica se a nota é maior ou ingual a 6\n",
    "    print (\"aprovado\")\n",
    "elif nota >= 4:\n",
    "    print (\"final\")\n",
    "elif nota < 0:\n",
    " print(\"nota inválida\")\n",
    "else :#caso nao seja nenhum dos casos acima:reprovado \n",
    "    print (\"reprovado \")\n",
    "  \n"
   ]
  }
 ],
 "metadata": {
  "kernelspec": {
   "display_name": "Python 3",
   "language": "python",
   "name": "python3"
  },
  "language_info": {
   "codemirror_mode": {
    "name": "ipython",
    "version": 3
   },
   "file_extension": ".py",
   "mimetype": "text/x-python",
   "name": "python",
   "nbconvert_exporter": "python",
   "pygments_lexer": "ipython3",
   "version": "3.13.3"
  }
 },
 "nbformat": 4,
 "nbformat_minor": 5
}
